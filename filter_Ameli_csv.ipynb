{
 "metadata": {
  "language_info": {
   "codemirror_mode": {
    "name": "ipython",
    "version": 3
   },
   "file_extension": ".py",
   "mimetype": "text/x-python",
   "name": "python",
   "nbconvert_exporter": "python",
   "pygments_lexer": "ipython3",
   "version": "3.7.6-final"
  },
  "orig_nbformat": 2,
  "kernelspec": {
   "name": "python3",
   "display_name": "Python 3",
   "language": "python"
  }
 },
 "nbformat": 4,
 "nbformat_minor": 2,
 "cells": [
  {
   "cell_type": "code",
   "execution_count": 1,
   "metadata": {},
   "outputs": [],
   "source": [
    "import pandas as pd\n",
    "import os\n",
    "\n",
    "from modules.splitting_csv import split, print_nb_row\n",
    "from modules.loader import Loader"
   ]
  },
  {
   "cell_type": "code",
   "execution_count": 2,
   "metadata": {},
   "outputs": [
    {
     "output_type": "stream",
     "name": "stdout",
     "text": [
      "Le fichier existe déjà\n"
     ]
    },
    {
     "output_type": "execute_result",
     "data": {
      "text/plain": [
       "'A2019_12.csv'"
      ]
     },
     "metadata": {},
     "execution_count": 2
    }
   ],
   "source": [
    "loader = Loader(\n",
    "    \"https://stdatalake011.blob.core.windows.net/public/A2019_12.csv\",\n",
    "    \"../datas/RAW/\"\n",
    ")\n",
    "loader.ensure_data_loaded()"
   ]
  },
  {
   "cell_type": "code",
   "execution_count": 3,
   "metadata": {},
   "outputs": [],
   "source": [
    "# print_nb_row(\"../datas/RAW/A2019_12.csv\")\n",
    "# # Resultat: 35563652\n",
    "\n",
    "if not os.path.exists(\"../datas/RAW/A2019_12_1.csv\"):\n",
    "    split(\n",
    "            open(\"../datas/RAW/A2019_12.csv\", 'r'),\n",
    "            delimiter=';',\n",
    "            row_limit=3600000, # trois million six cent mille\n",
    "            output_name_template='A2019_12_%s.csv',\n",
    "            output_path=\"../datas/RAW/\"\n",
    "        )"
   ]
  },
  {
   "cell_type": "code",
   "execution_count": 5,
   "metadata": {},
   "outputs": [
    {
     "output_type": "execute_result",
     "data": {
      "text/plain": [
       "   FLX_ANN_MOI  ORG_CLE_REG  AGE_BEN_SNDS  BEN_RES_REG  BEN_CMU_TOP  \\\n",
       "0       201912           11            50           11            9   \n",
       "1       201912           24            80           75            9   \n",
       "2       201912           99            60           99            9   \n",
       "3       201912           99            60           52            9   \n",
       "4       201912           53            70           53            0   \n",
       "\n",
       "   BEN_QLT_COD  BEN_SEX_COD  DDP_SPE_COD  ETE_CAT_SNDS  ETE_REG_COD  ...  \\\n",
       "0            1            2            0          1111           84  ...   \n",
       "1            1            1            0          9999           99  ...   \n",
       "2            1            1            0          9999           99  ...   \n",
       "3            1            2            0          9999           99  ...   \n",
       "4            1            2          121          9999           99  ...   \n",
       "\n",
       "   PSE_ACT_CAT  PSE_SPE_SNDS  PSE_STJ_SNDS  PRE_INS_REG  PSP_ACT_SNDS  \\\n",
       "0            0            33             2           99             0   \n",
       "1            2             0             9           75             0   \n",
       "2            2             0             1           99             0   \n",
       "3            2             0             1           99             0   \n",
       "4            2             0             1           99            19   \n",
       "\n",
       "   PSP_ACT_CAT  PSP_SPE_SNDS  PSP_STJ_SNDS  TOP_PS5_TRG  Unnamed: 55  \n",
       "0           99             0             9            9          NaN  \n",
       "1            1             1             9            9          NaN  \n",
       "2            0            35             9            9          NaN  \n",
       "3            0             0             2            9          NaN  \n",
       "4            0             0             2            1          NaN  \n",
       "\n",
       "[5 rows x 56 columns]"
      ],
      "text/html": "<div>\n<style scoped>\n    .dataframe tbody tr th:only-of-type {\n        vertical-align: middle;\n    }\n\n    .dataframe tbody tr th {\n        vertical-align: top;\n    }\n\n    .dataframe thead th {\n        text-align: right;\n    }\n</style>\n<table border=\"1\" class=\"dataframe\">\n  <thead>\n    <tr style=\"text-align: right;\">\n      <th></th>\n      <th>FLX_ANN_MOI</th>\n      <th>ORG_CLE_REG</th>\n      <th>AGE_BEN_SNDS</th>\n      <th>BEN_RES_REG</th>\n      <th>BEN_CMU_TOP</th>\n      <th>BEN_QLT_COD</th>\n      <th>BEN_SEX_COD</th>\n      <th>DDP_SPE_COD</th>\n      <th>ETE_CAT_SNDS</th>\n      <th>ETE_REG_COD</th>\n      <th>...</th>\n      <th>PSE_ACT_CAT</th>\n      <th>PSE_SPE_SNDS</th>\n      <th>PSE_STJ_SNDS</th>\n      <th>PRE_INS_REG</th>\n      <th>PSP_ACT_SNDS</th>\n      <th>PSP_ACT_CAT</th>\n      <th>PSP_SPE_SNDS</th>\n      <th>PSP_STJ_SNDS</th>\n      <th>TOP_PS5_TRG</th>\n      <th>Unnamed: 55</th>\n    </tr>\n  </thead>\n  <tbody>\n    <tr>\n      <th>0</th>\n      <td>201912</td>\n      <td>11</td>\n      <td>50</td>\n      <td>11</td>\n      <td>9</td>\n      <td>1</td>\n      <td>2</td>\n      <td>0</td>\n      <td>1111</td>\n      <td>84</td>\n      <td>...</td>\n      <td>0</td>\n      <td>33</td>\n      <td>2</td>\n      <td>99</td>\n      <td>0</td>\n      <td>99</td>\n      <td>0</td>\n      <td>9</td>\n      <td>9</td>\n      <td>NaN</td>\n    </tr>\n    <tr>\n      <th>1</th>\n      <td>201912</td>\n      <td>24</td>\n      <td>80</td>\n      <td>75</td>\n      <td>9</td>\n      <td>1</td>\n      <td>1</td>\n      <td>0</td>\n      <td>9999</td>\n      <td>99</td>\n      <td>...</td>\n      <td>2</td>\n      <td>0</td>\n      <td>9</td>\n      <td>75</td>\n      <td>0</td>\n      <td>1</td>\n      <td>1</td>\n      <td>9</td>\n      <td>9</td>\n      <td>NaN</td>\n    </tr>\n    <tr>\n      <th>2</th>\n      <td>201912</td>\n      <td>99</td>\n      <td>60</td>\n      <td>99</td>\n      <td>9</td>\n      <td>1</td>\n      <td>1</td>\n      <td>0</td>\n      <td>9999</td>\n      <td>99</td>\n      <td>...</td>\n      <td>2</td>\n      <td>0</td>\n      <td>1</td>\n      <td>99</td>\n      <td>0</td>\n      <td>0</td>\n      <td>35</td>\n      <td>9</td>\n      <td>9</td>\n      <td>NaN</td>\n    </tr>\n    <tr>\n      <th>3</th>\n      <td>201912</td>\n      <td>99</td>\n      <td>60</td>\n      <td>52</td>\n      <td>9</td>\n      <td>1</td>\n      <td>2</td>\n      <td>0</td>\n      <td>9999</td>\n      <td>99</td>\n      <td>...</td>\n      <td>2</td>\n      <td>0</td>\n      <td>1</td>\n      <td>99</td>\n      <td>0</td>\n      <td>0</td>\n      <td>0</td>\n      <td>2</td>\n      <td>9</td>\n      <td>NaN</td>\n    </tr>\n    <tr>\n      <th>4</th>\n      <td>201912</td>\n      <td>53</td>\n      <td>70</td>\n      <td>53</td>\n      <td>0</td>\n      <td>1</td>\n      <td>2</td>\n      <td>121</td>\n      <td>9999</td>\n      <td>99</td>\n      <td>...</td>\n      <td>2</td>\n      <td>0</td>\n      <td>1</td>\n      <td>99</td>\n      <td>19</td>\n      <td>0</td>\n      <td>0</td>\n      <td>2</td>\n      <td>1</td>\n      <td>NaN</td>\n    </tr>\n  </tbody>\n</table>\n<p>5 rows × 56 columns</p>\n</div>"
     },
     "metadata": {},
     "execution_count": 5
    }
   ],
   "source": [
    "ameli = pd.read_csv(\"../datas/RAW/A2019_12_1.csv\", delimiter=\";\")\n",
    "ameli.head()"
   ]
  }
 ]
}